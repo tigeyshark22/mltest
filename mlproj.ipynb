{
 "cells": [
  {
   "cell_type": "code",
   "execution_count": 98,
   "metadata": {},
   "outputs": [],
   "source": [
    "import torch\n",
    "from torch import nn\n",
    "import torchvision\n",
    "import torchvision.models as models\n",
    "from torch.utils.data import Dataset, DataLoader\n",
    "from torchvision import datasets\n",
    "from torchvision.transforms import *"
   ]
  },
  {
   "cell_type": "code",
   "execution_count": 99,
   "metadata": {},
   "outputs": [
    {
     "name": "stdout",
     "output_type": "stream",
     "text": [
      "Files already downloaded and verified\n"
     ]
    }
   ],
   "source": [
    "train_data = datasets.CIFAR10(\n",
    "    root=\"data\",\n",
    "    train=True,\n",
    "    download=True,\n",
    "    transform=transforms.Compose([\n",
    "        transforms.ToTensor(),\n",
    "        transforms.Normalize((0.5, 0.5, 0.5), (0.5, 0.5, 0.5))\n",
    "    ])\n",
    ")"
   ]
  },
  {
   "cell_type": "code",
   "execution_count": 100,
   "metadata": {},
   "outputs": [
    {
     "name": "stdout",
     "output_type": "stream",
     "text": [
      "Files already downloaded and verified\n"
     ]
    }
   ],
   "source": [
    "test_data = datasets.CIFAR10(\n",
    "    root=\"data\",\n",
    "    train=False,\n",
    "    download=True,\n",
    "    transform=transforms.Compose([\n",
    "        transforms.ToTensor(),\n",
    "        transforms.Normalize((0.5, 0.5, 0.5), (0.5, 0.5, 0.5))\n",
    "    ])\n",
    ")"
   ]
  },
  {
   "cell_type": "code",
   "execution_count": 142,
   "metadata": {},
   "outputs": [],
   "source": [
    "bsize = 64\n",
    "learn_rate = 5e-3\n",
    "epochs = 50"
   ]
  },
  {
   "cell_type": "code",
   "execution_count": 102,
   "metadata": {},
   "outputs": [],
   "source": [
    "loss = nn.CrossEntropyLoss()"
   ]
  },
  {
   "cell_type": "code",
   "execution_count": 132,
   "metadata": {},
   "outputs": [],
   "source": [
    "train_load = DataLoader(train_data, batch_size = bsize)\n",
    "test_load = DataLoader(test_data, batch_size = bsize)\n",
    "classes = ('plane', 'car', 'bird', 'cat',\n",
    "           'deer', 'dog', 'frog', 'horse', 'ship', 'truck')\n",
    "\n",
    "class NN(nn.Module):\n",
    "    def __init__(self):\n",
    "        super(NN, self).__init__()\n",
    "        self.conv = nn.Sequential(\n",
    "            # finish this\n",
    "            nn.Conv2d(3,6,5),\n",
    "            nn.ReLU(),\n",
    "            nn.MaxPool2d(2),\n",
    "            nn.Conv2d(6,16,5),\n",
    "            nn.ReLU(),\n",
    "            nn.MaxPool2d(2),\n",
    "        )\n",
    "        self.lin = nn.Sequential(\n",
    "            nn.Linear(6*5*5,out_features=120),\n",
    "            nn.Linear(in_features=120, out_features=60),\n",
    "            nn.Linear(in_features=60, out_features=10),\n",
    "        )\n",
    "    \n",
    "    def forward(self, x):\n",
    "        logits = self.conv(x)\n",
    "        logits = torch.flatten(logits, 1)\n",
    "        logits = self.lin(logits)\n",
    "        return logits\n",
    "\n",
    "model = NN()"
   ]
  },
  {
   "cell_type": "code",
   "execution_count": 139,
   "metadata": {},
   "outputs": [],
   "source": [
    "optim = torch.optim.SGD(model.parameters(), lr=learn_rate, momentum=0.9)"
   ]
  },
  {
   "cell_type": "code",
   "execution_count": 134,
   "metadata": {},
   "outputs": [],
   "source": [
    "def train_loop(dataloader, model, loss_fn, optim):\n",
    "    size = len(dataloader.dataset)\n",
    "    for batch, (X, y) in enumerate(dataloader, 0):\n",
    "        optim.zero_grad()\n",
    "\n",
    "        # Compute prediction and loss\n",
    "        pred = model(X)\n",
    "        loss = loss_fn(pred, y)\n",
    "        loss.backward()\n",
    "        optim.step()\n",
    "\n",
    "        if batch % 100 == 0:\n",
    "            loss, current = loss.item(), batch * len(X)\n",
    "            print(f\"loss: {loss:>7f}  [{current:>5d}/{size:>5d}] \\n\")"
   ]
  },
  {
   "cell_type": "code",
   "execution_count": 135,
   "metadata": {},
   "outputs": [],
   "source": [
    "def test_loop(dataloader, model, loss_fn):\n",
    "    size = len(dataloader.dataset)\n",
    "    num_batches = len(dataloader)\n",
    "    test_loss, correct = 0, 0\n",
    "\n",
    "    with torch.no_grad():\n",
    "        for X, y in dataloader:\n",
    "            pred = model(X)\n",
    "            test_loss += loss_fn(pred, y).item()\n",
    "            correct += (pred.argmax(1) == y).type(torch.float).sum().item()\n",
    "\n",
    "    test_loss /= num_batches\n",
    "    correct /= size\n",
    "    print(f\"Test Error: \\n Accuracy: {(100*correct):>0.1f}%, Avg loss: {test_loss:>8f} \\n\")"
   ]
  },
  {
   "cell_type": "code",
   "execution_count": 136,
   "metadata": {},
   "outputs": [
    {
     "name": "stdout",
     "output_type": "stream",
     "text": [
      "Epoch 1\n",
      "-------------------------------\n",
      "loss: 2.291567  [    0/50000] \n",
      "\n",
      "loss: 2.309814  [ 6400/50000] \n",
      "\n",
      "loss: 2.313878  [12800/50000] \n",
      "\n",
      "loss: 2.285675  [19200/50000] \n",
      "\n",
      "loss: 2.306116  [25600/50000] \n",
      "\n",
      "loss: 2.302895  [32000/50000] \n",
      "\n",
      "loss: 2.305433  [38400/50000] \n",
      "\n",
      "loss: 2.304848  [44800/50000] \n",
      "\n",
      "Test Error: \n",
      " Accuracy: 10.1%, Avg loss: 2.301326 \n",
      "\n",
      "Epoch 2\n",
      "-------------------------------\n",
      "loss: 2.293695  [    0/50000] \n",
      "\n",
      "loss: 2.306598  [ 6400/50000] \n",
      "\n",
      "loss: 2.303005  [12800/50000] \n",
      "\n",
      "loss: 2.291342  [19200/50000] \n",
      "\n",
      "loss: 2.298562  [25600/50000] \n",
      "\n",
      "loss: 2.297467  [32000/50000] \n",
      "\n",
      "loss: 2.300410  [38400/50000] \n",
      "\n",
      "loss: 2.299894  [44800/50000] \n",
      "\n",
      "Test Error: \n",
      " Accuracy: 13.5%, Avg loss: 2.295926 \n",
      "\n",
      "Epoch 3\n",
      "-------------------------------\n",
      "loss: 2.295413  [    0/50000] \n",
      "\n",
      "loss: 2.304056  [ 6400/50000] \n",
      "\n",
      "loss: 2.289994  [12800/50000] \n",
      "\n",
      "loss: 2.293719  [19200/50000] \n",
      "\n",
      "loss: 2.287383  [25600/50000] \n",
      "\n",
      "loss: 2.288297  [32000/50000] \n",
      "\n",
      "loss: 2.293324  [38400/50000] \n",
      "\n",
      "loss: 2.291736  [44800/50000] \n",
      "\n",
      "Test Error: \n",
      " Accuracy: 13.4%, Avg loss: 2.286568 \n",
      "\n",
      "Epoch 4\n",
      "-------------------------------\n",
      "loss: 2.293695  [    0/50000] \n",
      "\n",
      "loss: 2.299116  [ 6400/50000] \n",
      "\n",
      "loss: 2.271204  [12800/50000] \n",
      "\n",
      "loss: 2.290153  [19200/50000] \n",
      "\n",
      "loss: 2.268882  [25600/50000] \n",
      "\n",
      "loss: 2.273092  [32000/50000] \n",
      "\n",
      "loss: 2.283490  [38400/50000] \n",
      "\n",
      "loss: 2.272913  [44800/50000] \n",
      "\n",
      "Test Error: \n",
      " Accuracy: 15.4%, Avg loss: 2.268585 \n",
      "\n",
      "Epoch 5\n",
      "-------------------------------\n",
      "loss: 2.281717  [    0/50000] \n",
      "\n",
      "loss: 2.285288  [ 6400/50000] \n",
      "\n",
      "loss: 2.239505  [12800/50000] \n",
      "\n",
      "loss: 2.278598  [19200/50000] \n",
      "\n",
      "loss: 2.235785  [25600/50000] \n",
      "\n",
      "loss: 2.247159  [32000/50000] \n",
      "\n",
      "loss: 2.270818  [38400/50000] \n",
      "\n",
      "loss: 2.232019  [44800/50000] \n",
      "\n",
      "Test Error: \n",
      " Accuracy: 18.8%, Avg loss: 2.234498 \n",
      "\n",
      "Done!\n"
     ]
    }
   ],
   "source": [
    "for t in range(epochs):\n",
    "    print(f\"Epoch {t+1}\\n-------------------------------\")\n",
    "    train_loop(train_load, model, loss, optim)\n",
    "    test_loop(test_load, model, loss)\n",
    "print(\"Done!\")"
   ]
  }
 ],
 "metadata": {
  "kernelspec": {
   "display_name": "Python 3",
   "language": "python",
   "name": "python3"
  },
  "language_info": {
   "codemirror_mode": {
    "name": "ipython",
    "version": 3
   },
   "file_extension": ".py",
   "mimetype": "text/x-python",
   "name": "python",
   "nbconvert_exporter": "python",
   "pygments_lexer": "ipython3",
   "version": "3.9.6"
  },
  "orig_nbformat": 4,
  "vscode": {
   "interpreter": {
    "hash": "31f2aee4e71d21fbe5cf8b01ff0e069b9275f58929596ceb00d14d90e3e16cd6"
   }
  }
 },
 "nbformat": 4,
 "nbformat_minor": 2
}
